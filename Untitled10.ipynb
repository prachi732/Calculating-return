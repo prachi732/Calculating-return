{
  "nbformat": 4,
  "nbformat_minor": 0,
  "metadata": {
    "colab": {
      "name": "Untitled10.ipynb",
      "provenance": [],
      "authorship_tag": "ABX9TyOj1/ecUm3OVaFkL15Fb9XO",
      "include_colab_link": true
    },
    "kernelspec": {
      "name": "python3",
      "display_name": "Python 3"
    }
  },
  "cells": [
    {
      "cell_type": "markdown",
      "metadata": {
        "id": "view-in-github",
        "colab_type": "text"
      },
      "source": [
        "<a href=\"https://colab.research.google.com/github/prachi732/Calculating-return/blob/master/Untitled10.ipynb\" target=\"_parent\"><img src=\"https://colab.research.google.com/assets/colab-badge.svg\" alt=\"Open In Colab\"/></a>"
      ]
    },
    {
      "cell_type": "code",
      "metadata": {
        "id": "1AEBjTH6Qj5X",
        "colab_type": "code",
        "colab": {
          "base_uri": "https://localhost:8080/",
          "height": 71
        },
        "outputId": "54e8ec63-bc09-44cc-9099-30df2841367b"
      },
      "source": [
        "import numpy as np\n",
        "import pandas as pd\n",
        "from pandas_datareader import data as wb\n",
        "import matplotlib.pyplot as plt"
      ],
      "execution_count": 1,
      "outputs": [
        {
          "output_type": "stream",
          "text": [
            "/usr/local/lib/python3.6/dist-packages/pandas_datareader/compat/__init__.py:7: FutureWarning: pandas.util.testing is deprecated. Use the functions in the public API at pandas.testing instead.\n",
            "  from pandas.util.testing import assert_frame_equal\n"
          ],
          "name": "stderr"
        }
      ]
    },
    {
      "cell_type": "code",
      "metadata": {
        "id": "E5kmbXqsSnOk",
        "colab_type": "code",
        "colab": {}
      },
      "source": [
        "tickers=['PG','MSFT','F','GE']\n",
        "mydata=pd.DataFrame()\n",
        "for t in tickers:\n",
        "  mydata[t]=wb.DataReader(t,data_source='yahoo',start='1995-1-1')['Adj Close']"
      ],
      "execution_count": 0,
      "outputs": []
    },
    {
      "cell_type": "code",
      "metadata": {
        "id": "fshBuhb6TanG",
        "colab_type": "code",
        "colab": {
          "base_uri": "https://localhost:8080/",
          "height": 235
        },
        "outputId": "d68aec10-a7cf-4100-9302-4a0a21dcfcb4"
      },
      "source": [
        "mydata.head()\n"
      ],
      "execution_count": 4,
      "outputs": [
        {
          "output_type": "execute_result",
          "data": {
            "text/html": [
              "<div>\n",
              "<style scoped>\n",
              "    .dataframe tbody tr th:only-of-type {\n",
              "        vertical-align: middle;\n",
              "    }\n",
              "\n",
              "    .dataframe tbody tr th {\n",
              "        vertical-align: top;\n",
              "    }\n",
              "\n",
              "    .dataframe thead th {\n",
              "        text-align: right;\n",
              "    }\n",
              "</style>\n",
              "<table border=\"1\" class=\"dataframe\">\n",
              "  <thead>\n",
              "    <tr style=\"text-align: right;\">\n",
              "      <th></th>\n",
              "      <th>PG</th>\n",
              "      <th>MSFT</th>\n",
              "      <th>F</th>\n",
              "      <th>GE</th>\n",
              "    </tr>\n",
              "    <tr>\n",
              "      <th>Date</th>\n",
              "      <th></th>\n",
              "      <th></th>\n",
              "      <th></th>\n",
              "      <th></th>\n",
              "    </tr>\n",
              "  </thead>\n",
              "  <tbody>\n",
              "    <tr>\n",
              "      <th>1995-01-03</th>\n",
              "      <td>8.313478</td>\n",
              "      <td>2.406834</td>\n",
              "      <td>4.242091</td>\n",
              "      <td>4.074910</td>\n",
              "    </tr>\n",
              "    <tr>\n",
              "      <th>1995-01-04</th>\n",
              "      <td>8.246841</td>\n",
              "      <td>2.424330</td>\n",
              "      <td>4.356228</td>\n",
              "      <td>4.074910</td>\n",
              "    </tr>\n",
              "    <tr>\n",
              "      <th>1995-01-05</th>\n",
              "      <td>8.130219</td>\n",
              "      <td>2.384342</td>\n",
              "      <td>4.318182</td>\n",
              "      <td>4.084897</td>\n",
              "    </tr>\n",
              "    <tr>\n",
              "      <th>1995-01-06</th>\n",
              "      <td>8.146880</td>\n",
              "      <td>2.424330</td>\n",
              "      <td>4.318182</td>\n",
              "      <td>4.064922</td>\n",
              "    </tr>\n",
              "    <tr>\n",
              "      <th>1995-01-09</th>\n",
              "      <td>8.113561</td>\n",
              "      <td>2.409335</td>\n",
              "      <td>4.394274</td>\n",
              "      <td>4.024974</td>\n",
              "    </tr>\n",
              "  </tbody>\n",
              "</table>\n",
              "</div>"
            ],
            "text/plain": [
              "                  PG      MSFT         F        GE\n",
              "Date                                              \n",
              "1995-01-03  8.313478  2.406834  4.242091  4.074910\n",
              "1995-01-04  8.246841  2.424330  4.356228  4.074910\n",
              "1995-01-05  8.130219  2.384342  4.318182  4.084897\n",
              "1995-01-06  8.146880  2.424330  4.318182  4.064922\n",
              "1995-01-09  8.113561  2.409335  4.394274  4.024974"
            ]
          },
          "metadata": {
            "tags": []
          },
          "execution_count": 4
        }
      ]
    },
    {
      "cell_type": "code",
      "metadata": {
        "id": "2mRJilC4Tepa",
        "colab_type": "code",
        "colab": {
          "base_uri": "https://localhost:8080/",
          "height": 235
        },
        "outputId": "37b1910d-ec4f-4eed-e91a-bcd16d7e6649"
      },
      "source": [
        "mydata.tail()"
      ],
      "execution_count": 5,
      "outputs": [
        {
          "output_type": "execute_result",
          "data": {
            "text/html": [
              "<div>\n",
              "<style scoped>\n",
              "    .dataframe tbody tr th:only-of-type {\n",
              "        vertical-align: middle;\n",
              "    }\n",
              "\n",
              "    .dataframe tbody tr th {\n",
              "        vertical-align: top;\n",
              "    }\n",
              "\n",
              "    .dataframe thead th {\n",
              "        text-align: right;\n",
              "    }\n",
              "</style>\n",
              "<table border=\"1\" class=\"dataframe\">\n",
              "  <thead>\n",
              "    <tr style=\"text-align: right;\">\n",
              "      <th></th>\n",
              "      <th>PG</th>\n",
              "      <th>MSFT</th>\n",
              "      <th>F</th>\n",
              "      <th>GE</th>\n",
              "    </tr>\n",
              "    <tr>\n",
              "      <th>Date</th>\n",
              "      <th></th>\n",
              "      <th></th>\n",
              "      <th></th>\n",
              "      <th></th>\n",
              "    </tr>\n",
              "  </thead>\n",
              "  <tbody>\n",
              "    <tr>\n",
              "      <th>2020-05-27</th>\n",
              "      <td>113.889999</td>\n",
              "      <td>181.809998</td>\n",
              "      <td>6.03</td>\n",
              "      <td>7.29</td>\n",
              "    </tr>\n",
              "    <tr>\n",
              "      <th>2020-05-28</th>\n",
              "      <td>116.059998</td>\n",
              "      <td>181.399994</td>\n",
              "      <td>5.85</td>\n",
              "      <td>6.78</td>\n",
              "    </tr>\n",
              "    <tr>\n",
              "      <th>2020-05-29</th>\n",
              "      <td>115.919998</td>\n",
              "      <td>183.250000</td>\n",
              "      <td>5.71</td>\n",
              "      <td>6.57</td>\n",
              "    </tr>\n",
              "    <tr>\n",
              "      <th>2020-06-01</th>\n",
              "      <td>117.250000</td>\n",
              "      <td>182.830002</td>\n",
              "      <td>5.87</td>\n",
              "      <td>6.76</td>\n",
              "    </tr>\n",
              "    <tr>\n",
              "      <th>2020-06-02</th>\n",
              "      <td>118.059998</td>\n",
              "      <td>184.910004</td>\n",
              "      <td>5.90</td>\n",
              "      <td>7.05</td>\n",
              "    </tr>\n",
              "  </tbody>\n",
              "</table>\n",
              "</div>"
            ],
            "text/plain": [
              "                    PG        MSFT     F    GE\n",
              "Date                                          \n",
              "2020-05-27  113.889999  181.809998  6.03  7.29\n",
              "2020-05-28  116.059998  181.399994  5.85  6.78\n",
              "2020-05-29  115.919998  183.250000  5.71  6.57\n",
              "2020-06-01  117.250000  182.830002  5.87  6.76\n",
              "2020-06-02  118.059998  184.910004  5.90  7.05"
            ]
          },
          "metadata": {
            "tags": []
          },
          "execution_count": 5
        }
      ]
    },
    {
      "cell_type": "code",
      "metadata": {
        "id": "cuzYCiA5Tm9u",
        "colab_type": "code",
        "colab": {}
      },
      "source": [
        ""
      ],
      "execution_count": 0,
      "outputs": []
    },
    {
      "cell_type": "markdown",
      "metadata": {
        "id": "PpGlXbfITpFu",
        "colab_type": "text"
      },
      "source": [
        "**NORMALIZATION TO 100**"
      ]
    },
    {
      "cell_type": "code",
      "metadata": {
        "id": "oisYq1wWT3DK",
        "colab_type": "code",
        "colab": {
          "base_uri": "https://localhost:8080/",
          "height": 384
        },
        "outputId": "eb1bfc45-7eac-4fdd-f202-2971bf539142"
      },
      "source": [
        "(mydata/mydata.iloc[0]*100).plot(figsize=(15,6))"
      ],
      "execution_count": 6,
      "outputs": [
        {
          "output_type": "execute_result",
          "data": {
            "text/plain": [
              "<matplotlib.axes._subplots.AxesSubplot at 0x7f9343663cf8>"
            ]
          },
          "metadata": {
            "tags": []
          },
          "execution_count": 6
        },
        {
          "output_type": "display_data",
          "data": {
            "image/png": "[encoded data removed]",
            "text/plain": [
              "<Figure size 1080x432 with 1 Axes>"
            ]
          },
          "metadata": {
            "tags": [],
            "needs_background": "light"
          }
        }
      ]
    },
    {
      "cell_type": "markdown",
      "metadata": {
        "id": "aWd2-PnoUnRy",
        "colab_type": "text"
      },
      "source": [
        "**Calculating the return of a Portfolio of securities**\n"
      ]
    },
    {
      "cell_type": "code",
      "metadata": {
        "id": "6z2ttdecUwFR",
        "colab_type": "code",
        "colab": {
          "base_uri": "https://localhost:8080/",
          "height": 235
        },
        "outputId": "10614478-aac9-4a81-b552-fc30605ca408"
      },
      "source": [
        "returns=(mydata/mydata.shift(1))-1\n",
        "returns.head()"
      ],
      "execution_count": 8,
      "outputs": [
        {
          "output_type": "execute_result",
          "data": {
            "text/html": [
              "<div>\n",
              "<style scoped>\n",
              "    .dataframe tbody tr th:only-of-type {\n",
              "        vertical-align: middle;\n",
              "    }\n",
              "\n",
              "    .dataframe tbody tr th {\n",
              "        vertical-align: top;\n",
              "    }\n",
              "\n",
              "    .dataframe thead th {\n",
              "        text-align: right;\n",
              "    }\n",
              "</style>\n",
              "<table border=\"1\" class=\"dataframe\">\n",
              "  <thead>\n",
              "    <tr style=\"text-align: right;\">\n",
              "      <th></th>\n",
              "      <th>PG</th>\n",
              "      <th>MSFT</th>\n",
              "      <th>F</th>\n",
              "      <th>GE</th>\n",
              "    </tr>\n",
              "    <tr>\n",
              "      <th>Date</th>\n",
              "      <th></th>\n",
              "      <th></th>\n",
              "      <th></th>\n",
              "      <th></th>\n",
              "    </tr>\n",
              "  </thead>\n",
              "  <tbody>\n",
              "    <tr>\n",
              "      <th>1995-01-03</th>\n",
              "      <td>NaN</td>\n",
              "      <td>NaN</td>\n",
              "      <td>NaN</td>\n",
              "      <td>NaN</td>\n",
              "    </tr>\n",
              "    <tr>\n",
              "      <th>1995-01-04</th>\n",
              "      <td>-0.008016</td>\n",
              "      <td>0.007269</td>\n",
              "      <td>0.026906</td>\n",
              "      <td>0.000000</td>\n",
              "    </tr>\n",
              "    <tr>\n",
              "      <th>1995-01-05</th>\n",
              "      <td>-0.014141</td>\n",
              "      <td>-0.016495</td>\n",
              "      <td>-0.008734</td>\n",
              "      <td>0.002451</td>\n",
              "    </tr>\n",
              "    <tr>\n",
              "      <th>1995-01-06</th>\n",
              "      <td>0.002049</td>\n",
              "      <td>0.016771</td>\n",
              "      <td>0.000000</td>\n",
              "      <td>-0.004890</td>\n",
              "    </tr>\n",
              "    <tr>\n",
              "      <th>1995-01-09</th>\n",
              "      <td>-0.004090</td>\n",
              "      <td>-0.006185</td>\n",
              "      <td>0.017621</td>\n",
              "      <td>-0.009827</td>\n",
              "    </tr>\n",
              "  </tbody>\n",
              "</table>\n",
              "</div>"
            ],
            "text/plain": [
              "                  PG      MSFT         F        GE\n",
              "Date                                              \n",
              "1995-01-03       NaN       NaN       NaN       NaN\n",
              "1995-01-04 -0.008016  0.007269  0.026906  0.000000\n",
              "1995-01-05 -0.014141 -0.016495 -0.008734  0.002451\n",
              "1995-01-06  0.002049  0.016771  0.000000 -0.004890\n",
              "1995-01-09 -0.004090 -0.006185  0.017621 -0.009827"
            ]
          },
          "metadata": {
            "tags": []
          },
          "execution_count": 8
        }
      ]
    },
    {
      "cell_type": "code",
      "metadata": {
        "id": "KbmHsqAdU-83",
        "colab_type": "code",
        "colab": {}
      },
      "source": [
        "weights=np.array([0.25,0.25,0.25,0.25])"
      ],
      "execution_count": 0,
      "outputs": []
    },
    {
      "cell_type": "code",
      "metadata": {
        "id": "8FMUNyCAVF8Z",
        "colab_type": "code",
        "colab": {
          "base_uri": "https://localhost:8080/",
          "height": 51
        },
        "outputId": "e3cf9775-dd45-42c1-df30-a36d23cc0a63"
      },
      "source": [
        "np.dot(returns,weights)"
      ],
      "execution_count": 11,
      "outputs": [
        {
          "output_type": "execute_result",
          "data": {
            "text/plain": [
              "array([        nan,  0.00653989, -0.00922976, ..., -0.01147821,\n",
              "        0.01653046,  0.01657379])"
            ]
          },
          "metadata": {
            "tags": []
          },
          "execution_count": 11
        }
      ]
    },
    {
      "cell_type": "code",
      "metadata": {
        "id": "SZYhh89DVLKO",
        "colab_type": "code",
        "colab": {
          "base_uri": "https://localhost:8080/",
          "height": 102
        },
        "outputId": "259afb31-0f57-4ae4-8729-5cd977b7537e"
      },
      "source": [
        "annual_return=returns.mean()*250\n",
        "annual_return"
      ],
      "execution_count": 13,
      "outputs": [
        {
          "output_type": "execute_result",
          "data": {
            "text/plain": [
              "PG      0.129618\n",
              "MSFT    0.219729\n",
              "F       0.092236\n",
              "GE      0.071286\n",
              "dtype: float64"
            ]
          },
          "metadata": {
            "tags": []
          },
          "execution_count": 13
        }
      ]
    },
    {
      "cell_type": "code",
      "metadata": {
        "id": "1PneTf7aVp_x",
        "colab_type": "code",
        "colab": {
          "base_uri": "https://localhost:8080/",
          "height": 34
        },
        "outputId": "77ac30d1-55f1-44ed-8fcf-6fd7ef82776e"
      },
      "source": [
        "result=str(np.dot(annual_return,weights).round(5)*100)+'%'\n",
        "print(result)"
      ],
      "execution_count": 16,
      "outputs": [
        {
          "output_type": "stream",
          "text": [
            "12.822%\n"
          ],
          "name": "stdout"
        }
      ]
    },
    {
      "cell_type": "code",
      "metadata": {
        "id": "HIVTXJ4TWGN6",
        "colab_type": "code",
        "colab": {}
      },
      "source": [
        ""
      ],
      "execution_count": 0,
      "outputs": []
    }
  ]
}